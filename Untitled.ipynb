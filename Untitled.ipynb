{
 "cells": [
  {
   "cell_type": "code",
   "execution_count": 1,
   "id": "c99c7dc8-f122-40c4-b53f-31ea509e28f1",
   "metadata": {},
   "outputs": [],
   "source": [
    "import napari\n",
    "\n",
    "from napari.experimental._progressive_loading import (\n",
    "    add_progressive_loading_image,\n",
    ")\n",
    "from _generative_yt.yt_store import yt_dataset"
   ]
  },
  {
   "cell_type": "code",
   "execution_count": 2,
   "id": "01ad4fc2-0a0f-451d-802f-1ccc3eb6f026",
   "metadata": {},
   "outputs": [
    {
     "name": "stderr",
     "output_type": "stream",
     "text": [
      "yt : [INFO     ] 2023-07-18 12:13:24,440 Sample dataset found in '/home/chavlin/hdd/data/yt_data/yt_sample_sets/IsolatedGalaxy/galaxy0030/galaxy0030'\n",
      "yt : [INFO     ] 2023-07-18 12:13:24,542 Parameters: current_time              = 0.0060000200028298\n",
      "yt : [INFO     ] 2023-07-18 12:13:24,543 Parameters: domain_dimensions         = [32 32 32]\n",
      "yt : [INFO     ] 2023-07-18 12:13:24,545 Parameters: domain_left_edge          = [0. 0. 0.]\n",
      "yt : [INFO     ] 2023-07-18 12:13:24,546 Parameters: domain_right_edge         = [1. 1. 1.]\n",
      "yt : [INFO     ] 2023-07-18 12:13:24,546 Parameters: cosmological_simulation   = 0\n",
      "Parsing Hierarchy : 100%|██████████████████| 173/173 [00:00<00:00, 18023.66it/s]\n",
      "yt : [INFO     ] 2023-07-18 12:13:24,566 Gathering a field list (this may take a moment.)\n"
     ]
    }
   ],
   "source": [
    "multiscale_img = yt_dataset()"
   ]
  },
  {
   "cell_type": "code",
   "execution_count": 3,
   "id": "d5c68a7a-7cf0-4b82-8abd-ccd5a635dac0",
   "metadata": {},
   "outputs": [
    {
     "name": "stdout",
     "output_type": "stream",
     "text": [
      "<zarr.core.Array '/0' (8192, 8192, 8192) uint8 read-only>\n"
     ]
    }
   ],
   "source": [
    "print(multiscale_img[0])"
   ]
  },
  {
   "cell_type": "code",
   "execution_count": 4,
   "id": "f116a2f9-a9b0-4c0a-b255-5f2067fc7670",
   "metadata": {},
   "outputs": [],
   "source": [
    "viewer = napari.Viewer(ndisplay=3)"
   ]
  },
  {
   "cell_type": "code",
   "execution_count": null,
   "id": "47489040-b098-450a-abfd-82038693c3f1",
   "metadata": {},
   "outputs": [],
   "source": [
    "add_progressive_loading_image(\n",
    "    multiscale_img,\n",
    "    viewer=viewer,    \n",
    "    colormap='twilight_shifted',\n",
    "    ndisplay=3,\n",
    ")\n",
    "viewer.axes.visible = True"
   ]
  },
  {
   "cell_type": "code",
   "execution_count": 1,
   "id": "a3ed1bc6-a7e4-4621-b37f-1332334ccb87",
   "metadata": {},
   "outputs": [
    {
     "data": {
      "text/plain": [
       "32768"
      ]
     },
     "execution_count": 1,
     "metadata": {},
     "output_type": "execute_result"
    }
   ],
   "source": [
    "32*32*32"
   ]
  },
  {
   "cell_type": "code",
   "execution_count": null,
   "id": "a541e379-75d0-4da0-9b03-5328843669ff",
   "metadata": {},
   "outputs": [],
   "source": []
  }
 ],
 "metadata": {
  "kernelspec": {
   "display_name": "Python 3 (ipykernel)",
   "language": "python",
   "name": "python3"
  },
  "language_info": {
   "codemirror_mode": {
    "name": "ipython",
    "version": 3
   },
   "file_extension": ".py",
   "mimetype": "text/x-python",
   "name": "python",
   "nbconvert_exporter": "python",
   "pygments_lexer": "ipython3",
   "version": "3.10.11"
  }
 },
 "nbformat": 4,
 "nbformat_minor": 5
}
